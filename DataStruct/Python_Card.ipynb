{
 "cells": [
  {
   "cell_type": "code",
   "execution_count": 1,
   "id": "130fa9db",
   "metadata": {},
   "outputs": [],
   "source": [
    "import collections"
   ]
  },
  {
   "cell_type": "code",
   "execution_count": 3,
   "id": "f4306fd8",
   "metadata": {},
   "outputs": [],
   "source": [
    "Card = collections.namedtuple('card',['rank','suit'])"
   ]
  },
  {
   "cell_type": "code",
   "execution_count": 5,
   "id": "274ae59e",
   "metadata": {},
   "outputs": [
    {
     "name": "stdout",
     "output_type": "stream",
     "text": [
      "<class '__main__.card'>\n",
      "<class 'type'>\n"
     ]
    }
   ],
   "source": [
    "print(Card)\n",
    "print(type(Card))"
   ]
  },
  {
   "cell_type": "code",
   "execution_count": 32,
   "id": "7849530f",
   "metadata": {},
   "outputs": [],
   "source": [
    "class FrenchDeck:\n",
    "    ranks = [str(n) for n in range(2,11)] + list('JQKA')\n",
    "    # 리스트 컴프리헨션으로 반복문을 사용하여서 ranks 라는 변수에 문자열 배열에서 2부터 10까지와 'J','Q','K','A'성분들을 저장\n",
    "    suits = 'spades diamonds clubs hearts'.split()\n",
    "    # suits 라는 변수에 각각의 스페이드 다이아 클로버 하트를 스플릿 함수로 각각 분리하여 저장\n",
    "    def __init__(self):\n",
    "        self._cards = [Card(rank,suit) for suit in self.suits for rank in self.ranks]\n",
    "        #\n",
    "    def __len__(self):\n",
    "        return len(self._cards)\n",
    "\n",
    "    def __getitem__(self,position):\n",
    "        return self._cards[position]"
   ]
  },
  {
   "cell_type": "markdown",
   "id": "2df5ff0f",
   "metadata": {},
   "source": [
    "### 객체 선언을 할 때의 파이썬에서 self가 필요한 이유\n",
    "    1.각 인스턴스마다 개별적인 속성을 유지하기 위해\n",
    "\t\t- self._cards는 각 객체마다 독립적인 카드 리스트를 가지도록 만듭니다.\n",
    "\t\t- 예를 들어, deck1._cards와 deck2._cards가 다를 수 있음.\n",
    "\t2.클래스 내부에서 속성과 메서드를 참조하기 위해\n",
    "\t\t- self가 없으면, 클래스 내부에서 정의된 변수를 찾을 수 없습니다.\n",
    "\t\t예를 들어, self._cards 없이 len(_cards)를 사용하면 오류 발생!\n",
    "\t3.클래스 내에서 객체 데이터를 조작할 수 있도록 하기 위해\n",
    "\t\t- self를 사용하면 같은 클래스 내에서 self._cards를 읽거나 변경할 수 있습니다."
   ]
  },
  {
   "cell_type": "markdown",
   "id": "694d1454",
   "metadata": {},
   "source": [
    "### collections.namedtuple 을 이용해서 카드 한 장을 나타내는 클래스 생성\n",
    "    - 보통 데이터 베이스 레코드처럼 사용자 정의 메서드 없이 일련의 속성으로 구성된 객체의 클래스를 정의를 할 때 nametuple을 사용을 한다."
   ]
  },
  {
   "cell_type": "code",
   "execution_count": 33,
   "id": "3a5052df",
   "metadata": {},
   "outputs": [],
   "source": [
    "beer_card = Card('7','diamonds')"
   ]
  },
  {
   "cell_type": "code",
   "execution_count": 34,
   "id": "9006f577",
   "metadata": {},
   "outputs": [
    {
     "data": {
      "text/plain": [
       "card(rank='7', suit='diamonds')"
      ]
     },
     "execution_count": 34,
     "metadata": {},
     "output_type": "execute_result"
    }
   ],
   "source": [
    "beer_card"
   ]
  },
  {
   "cell_type": "code",
   "execution_count": 35,
   "id": "cb2102ff",
   "metadata": {},
   "outputs": [
    {
     "name": "stdout",
     "output_type": "stream",
     "text": [
      "card(rank='7', suit='diamonds')\n",
      "<class '__main__.card'>\n"
     ]
    }
   ],
   "source": [
    "print(beer_card)\n",
    "print(type(beer_card))"
   ]
  },
  {
   "cell_type": "code",
   "execution_count": 36,
   "id": "e2682019",
   "metadata": {},
   "outputs": [],
   "source": [
    "deck = FrenchDeck()"
   ]
  },
  {
   "cell_type": "code",
   "execution_count": 38,
   "id": "b986c94f",
   "metadata": {},
   "outputs": [
    {
     "name": "stdout",
     "output_type": "stream",
     "text": [
      "<class '__main__.FrenchDeck'>\n",
      "52\n"
     ]
    }
   ],
   "source": [
    "print(type(deck))\n",
    "print(len(deck))"
   ]
  },
  {
   "cell_type": "code",
   "execution_count": null,
   "id": "cba051ca",
   "metadata": {},
   "outputs": [],
   "source": []
  }
 ],
 "metadata": {
  "kernelspec": {
   "display_name": "Python 3 (ipykernel)",
   "language": "python",
   "name": "python3"
  },
  "language_info": {
   "codemirror_mode": {
    "name": "ipython",
    "version": 3
   },
   "file_extension": ".py",
   "mimetype": "text/x-python",
   "name": "python",
   "nbconvert_exporter": "python",
   "pygments_lexer": "ipython3",
   "version": "3.11.5"
  }
 },
 "nbformat": 4,
 "nbformat_minor": 5
}
